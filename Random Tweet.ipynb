{
 "cells": [
  {
   "cell_type": "code",
   "execution_count": 8,
   "metadata": {},
   "outputs": [
    {
     "name": "stdout",
     "output_type": "stream",
     "text": [
      "[['Paulinho', 'Lalá', 'Carol', 'Marcello', 'Laís', 'Daisy', 'Luiz', 'Fake News'], ['no talent', 'on the way down', 'really poor numbers', 'looking like lost', 'hungry', 'very tired'], ['will pay for the lunch.', 'did not wake up.', 'got crazy.', 'understood completely wrong.', \"couldn't not understand.\"], ['Schade', 'Entschuldigung', 'So traurig', 'Unglaublich', 'Super']]\n"
     ]
    }
   ],
   "source": [
    "part1 = ['Paulinho', 'Lalá', 'Carol', 'Marcello', 'Laís', 'Daisy', 'Luiz', 'Fake News']\n",
    "part2 = ['no talent', 'on the way down', 'really poor numbers', 'looking like lost', 'hungry', 'very tired']\n",
    "part3 = ['will pay for the lunch.', 'did not wake up.', 'got crazy.', 'understood completely wrong.', 'couldn\\'t not understand.']\n",
    "part4 = ['Schade', 'Entschuldigung', 'So traurig', 'Unglaublich', 'Super']\n",
    "\n",
    "best_words = [part1, part2, part3, part4]\n",
    "print(best_words)"
   ]
  },
  {
   "cell_type": "code",
   "execution_count": 16,
   "metadata": {},
   "outputs": [
    {
     "name": "stdout",
     "output_type": "stream",
     "text": [
      "Marcello looking like lost understood completely wrong. Schade!\n"
     ]
    }
   ],
   "source": [
    "#Den Tweet-Generator bauen\n",
    "import random\n",
    "sentence = []\n",
    "\n",
    "for part in best_words:\n",
    "    r = random.randint(0, len(part) - 1)\n",
    "    sentence.append(part[r])\n",
    "    \n",
    "print(' '.join(sentence) + '!')"
   ]
  },
  {
   "cell_type": "code",
   "execution_count": null,
   "metadata": {},
   "outputs": [],
   "source": []
  }
 ],
 "metadata": {
  "kernelspec": {
   "display_name": "Python 3",
   "language": "python",
   "name": "python3"
  },
  "language_info": {
   "codemirror_mode": {
    "name": "ipython",
    "version": 3
   },
   "file_extension": ".py",
   "mimetype": "text/x-python",
   "name": "python",
   "nbconvert_exporter": "python",
   "pygments_lexer": "ipython3",
   "version": "3.8.3"
  }
 },
 "nbformat": 4,
 "nbformat_minor": 4
}
